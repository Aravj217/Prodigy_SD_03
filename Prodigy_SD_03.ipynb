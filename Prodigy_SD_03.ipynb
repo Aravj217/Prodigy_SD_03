{
 "cells": [
  {
   "cell_type": "code",
   "execution_count": 2,
   "id": "aa4be05d-c44f-486d-bafe-ca091edacfa5",
   "metadata": {},
   "outputs": [
    {
     "name": "stdout",
     "output_type": "stream",
     "text": [
      "\n",
      "--- Contact Manager ---\n",
      "1. View Contacts\n",
      "2. Add New Contact\n",
      "3. Edit Contact\n",
      "4. Delete Contact\n",
      "5. Exit\n"
     ]
    },
    {
     "name": "stdin",
     "output_type": "stream",
     "text": [
      "Enter your choice (1–5):  2\n",
      "Enter name:  mr.jai\n",
      "Enter phone number:  9876512390\n",
      "Enter email address:  jaiji@gmail.com\n"
     ]
    },
    {
     "name": "stdout",
     "output_type": "stream",
     "text": [
      "Contact added successfully.\n",
      "\n",
      "--- Contact Manager ---\n",
      "1. View Contacts\n",
      "2. Add New Contact\n",
      "3. Edit Contact\n",
      "4. Delete Contact\n",
      "5. Exit\n"
     ]
    },
    {
     "name": "stdin",
     "output_type": "stream",
     "text": [
      "Enter your choice (1–5):  1\n"
     ]
    },
    {
     "name": "stdout",
     "output_type": "stream",
     "text": [
      "\n",
      "--- Contact List ---\n",
      "1. Name: mr.jai\n",
      "   Phone: 9876512390\n",
      "   Email: jaiji@gmail.com\n",
      "\n",
      "--- Contact Manager ---\n",
      "1. View Contacts\n",
      "2. Add New Contact\n",
      "3. Edit Contact\n",
      "4. Delete Contact\n",
      "5. Exit\n"
     ]
    },
    {
     "name": "stdin",
     "output_type": "stream",
     "text": [
      "Enter your choice (1–5):  3\n"
     ]
    },
    {
     "name": "stdout",
     "output_type": "stream",
     "text": [
      "\n",
      "--- Contact List ---\n",
      "1. Name: mr.jai\n",
      "   Phone: 9876512390\n",
      "   Email: jaiji@gmail.com\n"
     ]
    },
    {
     "name": "stdin",
     "output_type": "stream",
     "text": [
      "Enter the number of the contact to edit:  1\n"
     ]
    },
    {
     "name": "stdout",
     "output_type": "stream",
     "text": [
      "Leave blank to keep existing values.\n"
     ]
    },
    {
     "name": "stdin",
     "output_type": "stream",
     "text": [
      "New name [mr.jai]:  Mr.Jai\n",
      "New phone [9876512390]:  \n",
      "New email [jaiji@gmail.com]:  jaisingh@gmail.com\n"
     ]
    },
    {
     "name": "stdout",
     "output_type": "stream",
     "text": [
      "Contact updated successfully.\n",
      "\n",
      "--- Contact Manager ---\n",
      "1. View Contacts\n",
      "2. Add New Contact\n",
      "3. Edit Contact\n",
      "4. Delete Contact\n",
      "5. Exit\n"
     ]
    },
    {
     "name": "stdin",
     "output_type": "stream",
     "text": [
      "Enter your choice (1–5):  4\n"
     ]
    },
    {
     "name": "stdout",
     "output_type": "stream",
     "text": [
      "\n",
      "--- Contact List ---\n",
      "1. Name: Mr.Jai\n",
      "   Phone: 9876512390\n",
      "   Email: jaisingh@gmail.com\n"
     ]
    },
    {
     "name": "stdin",
     "output_type": "stream",
     "text": [
      "Enter the number of the contact to delete:  1\n"
     ]
    },
    {
     "name": "stdout",
     "output_type": "stream",
     "text": [
      "Deleted contact: Mr.Jai\n",
      "\n",
      "--- Contact Manager ---\n",
      "1. View Contacts\n",
      "2. Add New Contact\n",
      "3. Edit Contact\n",
      "4. Delete Contact\n",
      "5. Exit\n"
     ]
    },
    {
     "name": "stdin",
     "output_type": "stream",
     "text": [
      "Enter your choice (1–5):  5\n"
     ]
    },
    {
     "name": "stdout",
     "output_type": "stream",
     "text": [
      "Goodbye! Contacts saved.\n"
     ]
    }
   ],
   "source": [
    "import json\n",
    "import os\n",
    "\n",
    "CONTACTS_FILE = 'contacts.json'\n",
    "\n",
    "# Load contacts from file\n",
    "def load_contacts():\n",
    "    if os.path.exists(CONTACTS_FILE):\n",
    "        with open(CONTACTS_FILE, 'r') as f:\n",
    "            return json.load(f)\n",
    "    return []\n",
    "\n",
    "# Save contacts to file\n",
    "def save_contacts(contacts):\n",
    "    with open(CONTACTS_FILE, 'w') as f:\n",
    "        json.dump(contacts, f, indent=4)\n",
    "\n",
    "# Display all contacts\n",
    "def view_contacts(contacts):\n",
    "    if not contacts:\n",
    "        print(\"\\nNo contacts found.\")\n",
    "        return\n",
    "    print(\"\\n--- Contact List ---\")\n",
    "    for idx, contact in enumerate(contacts, start=1):\n",
    "        print(f\"{idx}. Name: {contact['name']}\")\n",
    "        print(f\"   Phone: {contact['phone']}\")\n",
    "        print(f\"   Email: {contact['email']}\")\n",
    "\n",
    "# Add a new contact\n",
    "def add_contact(contacts):\n",
    "    name = input(\"Enter name: \")\n",
    "    phone = input(\"Enter phone number: \")\n",
    "    email = input(\"Enter email address: \")\n",
    "    contacts.append({'name': name, 'phone': phone, 'email': email})\n",
    "    print(\"Contact added successfully.\")\n",
    "\n",
    "# Edit a contact\n",
    "def edit_contact(contacts):\n",
    "    view_contacts(contacts)\n",
    "    try:\n",
    "        index = int(input(\"Enter the number of the contact to edit: \")) - 1\n",
    "        if 0 <= index < len(contacts):\n",
    "            print(\"Leave blank to keep existing values.\")\n",
    "            name = input(f\"New name [{contacts[index]['name']}]: \") or contacts[index]['name']\n",
    "            phone = input(f\"New phone [{contacts[index]['phone']}]: \") or contacts[index]['phone']\n",
    "            email = input(f\"New email [{contacts[index]['email']}]: \") or contacts[index]['email']\n",
    "            contacts[index] = {'name': name, 'phone': phone, 'email': email}\n",
    "            print(\"Contact updated successfully.\")\n",
    "        else:\n",
    "            print(\"Invalid contact number.\")\n",
    "    except ValueError:\n",
    "        print(\"Invalid input. Please enter a valid number.\")\n",
    "\n",
    "# Delete a contact\n",
    "def delete_contact(contacts):\n",
    "    view_contacts(contacts)\n",
    "    try:\n",
    "        index = int(input(\"Enter the number of the contact to delete: \")) - 1\n",
    "        if 0 <= index < len(contacts):\n",
    "            deleted = contacts.pop(index)\n",
    "            print(f\"Deleted contact: {deleted['name']}\")\n",
    "        else:\n",
    "            print(\"Invalid contact number.\")\n",
    "    except ValueError:\n",
    "        print(\"Invalid input. Please enter a valid number.\")\n",
    "\n",
    "# Main loop\n",
    "def main():\n",
    "    contacts = load_contacts()\n",
    "\n",
    "    while True:\n",
    "        print(\"\\n--- Contact Manager ---\")\n",
    "        print(\"1. View Contacts\")\n",
    "        print(\"2. Add New Contact\")\n",
    "        print(\"3. Edit Contact\")\n",
    "        print(\"4. Delete Contact\")\n",
    "        print(\"5. Exit\")\n",
    "        choice = input(\"Enter your choice (1–5): \")\n",
    "\n",
    "        if choice == '1':\n",
    "            view_contacts(contacts)\n",
    "        elif choice == '2':\n",
    "            add_contact(contacts)\n",
    "        elif choice == '3':\n",
    "            edit_contact(contacts)\n",
    "        elif choice == '4':\n",
    "            delete_contact(contacts)\n",
    "        elif choice == '5':\n",
    "            save_contacts(contacts)\n",
    "            print(\"Goodbye! Contacts saved.\")\n",
    "            break\n",
    "        else:\n",
    "            print(\"Invalid choice. Please try again.\")\n",
    "\n",
    "if __name__ == \"__main__\":\n",
    "    main()\n"
   ]
  },
  {
   "cell_type": "code",
   "execution_count": null,
   "id": "d95a4f6d-eb01-4acd-9870-723cd687c73a",
   "metadata": {},
   "outputs": [],
   "source": []
  }
 ],
 "metadata": {
  "kernelspec": {
   "display_name": "Python 3 (ipykernel)",
   "language": "python",
   "name": "python3"
  },
  "language_info": {
   "codemirror_mode": {
    "name": "ipython",
    "version": 3
   },
   "file_extension": ".py",
   "mimetype": "text/x-python",
   "name": "python",
   "nbconvert_exporter": "python",
   "pygments_lexer": "ipython3",
   "version": "3.12.7"
  }
 },
 "nbformat": 4,
 "nbformat_minor": 5
}
